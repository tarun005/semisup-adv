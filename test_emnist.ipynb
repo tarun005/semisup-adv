{
 "cells": [
  {
   "cell_type": "code",
   "execution_count": 1,
   "metadata": {},
   "outputs": [],
   "source": [
    "import numpy as np\n",
    "import matplotlib.pyplot as plt\n",
    "import scipy.io as sio"
   ]
  },
  {
   "cell_type": "code",
   "execution_count": null,
   "metadata": {},
   "outputs": [],
   "source": [
    "digits = sio.loadmat(\"/newfoundland/tarun/datasets/Digits/SVHN/extra_32x32.mat\")"
   ]
  },
  {
   "cell_type": "code",
   "execution_count": null,
   "metadata": {},
   "outputs": [],
   "source": [
    "train_digits = digits[0,0][0][0][0][0]\n",
    "train_labels = digits[0,0][0][0][0][1]\n",
    "\n",
    "test_digits = digits[0,0][1][0][0][0]\n",
    "test_labels = digits[0,0][1][0][0][1]\n",
    "\n",
    "unlabeled_images = np.concatenate([train_digits , test_digits] , 0)\n",
    "unlabeled_labels = np.concatenate([train_labels , test_labels] , 0)\n",
    "\n",
    "# all_padded_images = []\n",
    "# for image in unlabeled_images:\n",
    "#     image = image.reshape(28,28,1)\n",
    "#     padded_image = np.zeros((32,32,1))\n",
    "#     padded_image[2:-2 , 2:-2 , :] = image\n",
    "#     all_padded_images.append(padded_image)\n",
    "    \n",
    "# unlabeled_images = np.stack(all_padded_images , 3)\n",
    "# unlabeled_images = unlabeled_images.repeat(3,2)\n",
    "\n",
    "unlabeled_images = unlabeled_images.transpose(1,0).reshape(28,28,1,-1)\n",
    "unlabeled_labels = unlabeled_labels.transpose(1,0)"
   ]
  },
  {
   "cell_type": "code",
   "execution_count": null,
   "metadata": {},
   "outputs": [],
   "source": [
    "unlabeled_images.shape"
   ]
  },
  {
   "cell_type": "code",
   "execution_count": null,
   "metadata": {},
   "outputs": [],
   "source": [
    "rand_idx = np.random.choice(np.arange(unlabeled_images.shape[-1]))\n",
    "\n",
    "print(rand_idx)\n",
    "print(\"Label \" , unlabeled_labels[:,rand_idx])\n",
    "\n",
    "digits1 = unlabeled_images[:,:,:,rand_idx]\n",
    "digits1 = digits1.repeat(3,2)\n",
    "plt.imshow(digits1.astype('uint8'))\n",
    "plt.show()"
   ]
  },
  {
   "cell_type": "code",
   "execution_count": null,
   "metadata": {},
   "outputs": [],
   "source": [
    "sio.savemat(\"emnist.mat\" , {\"X\":unlabeled_images , \"y\":unlabeled_labels})"
   ]
  },
  {
   "cell_type": "code",
   "execution_count": null,
   "metadata": {},
   "outputs": [],
   "source": [
    "import numpy as np\n",
    "import matplotlib.pyplot as plt\n",
    "import scipy.io as sio\n",
    "\n",
    "digits = sio.loadmat(\"/newfoundland/tarun/datasets/Digits/SVHN/extra_32x32.mat\")"
   ]
  },
  {
   "cell_type": "code",
   "execution_count": null,
   "metadata": {},
   "outputs": [],
   "source": [
    "inputs = digits[\"X\"]\n",
    "gt_labels = digits[\"y\"].astype(np.int64)\n",
    "# np.place(gt_labels, gt_labels == 10, 0)\n",
    "# labels = np.load(\"svhn_to_svhn_pseudo.np.npy\")\n",
    "pseudo = sio.loadmat(\"/newfoundland/tarun/datasets/Digits/SVHN/svhn_noiseaug_1p_32x32.mat\")\n",
    "pseudo_labels = pseudo[\"y\"].astype(np.int64)"
   ]
  },
  {
   "cell_type": "code",
   "execution_count": null,
   "metadata": {},
   "outputs": [],
   "source": [
    "(gt_labels == pseudo_labels).sum()/len(gt_labels)"
   ]
  },
  {
   "cell_type": "code",
   "execution_count": null,
   "metadata": {},
   "outputs": [],
   "source": [
    "## Randomly flip x% of ids from labels\n",
    "p = 1 ## percentage of noise\n",
    "n = len(labels)\n",
    "r_idxs = np.random.choice(np.arange(n) , size=(n*p//100,) , replace=False)\n",
    "labels_noise_p = labels.copy()\n",
    "noise = np.random.randint(0,9,(len(r_idxs),1))\n",
    "labels_noise_p[r_idxs] = np.mod(labels_noise_p[r_idxs] + noise , 10)"
   ]
  },
  {
   "cell_type": "code",
   "execution_count": null,
   "metadata": {},
   "outputs": [],
   "source": [
    "r_idxs[:5]"
   ]
  },
  {
   "cell_type": "code",
   "execution_count": null,
   "metadata": {},
   "outputs": [],
   "source": [
    "print(labels[r_idxs[:5]].T)\n",
    "print(noise[:5].T)\n",
    "print(labels_noise_p[r_idxs[:5]].T)"
   ]
  },
  {
   "cell_type": "code",
   "execution_count": null,
   "metadata": {},
   "outputs": [],
   "source": [
    "sio.savemat(\"/newfoundland/tarun/datasets/Digits/svhn_noiseaug_20p.mat\" , {\"X\":inputs , \"y\":labels_noise_p})"
   ]
  },
  {
   "cell_type": "code",
   "execution_count": null,
   "metadata": {},
   "outputs": [],
   "source": [
    "np.unique(labels_noise_p)"
   ]
  },
  {
   "cell_type": "code",
   "execution_count": null,
   "metadata": {},
   "outputs": [],
   "source": [
    "labels_noise_p[r_idxs].shape"
   ]
  },
  {
   "cell_type": "code",
   "execution_count": null,
   "metadata": {},
   "outputs": [],
   "source": [
    "gt_labels.shape"
   ]
  },
  {
   "cell_type": "code",
   "execution_count": null,
   "metadata": {},
   "outputs": [],
   "source": [
    "labels.shape"
   ]
  },
  {
   "cell_type": "code",
   "execution_count": null,
   "metadata": {},
   "outputs": [],
   "source": [
    "labels_noise_p.shape"
   ]
  },
  {
   "cell_type": "code",
   "execution_count": null,
   "metadata": {},
   "outputs": [],
   "source": [
    "digits = sio.loadmat(\"/newfoundland/tarun/datasets/Digits/SVHN/syndigit_augmented_32x32.mat\")"
   ]
  },
  {
   "cell_type": "code",
   "execution_count": null,
   "metadata": {},
   "outputs": [],
   "source": [
    "digits[\"y\"].shape"
   ]
  },
  {
   "cell_type": "code",
   "execution_count": null,
   "metadata": {},
   "outputs": [],
   "source": [
    "inputs.shape"
   ]
  },
  {
   "cell_type": "code",
   "execution_count": null,
   "metadata": {},
   "outputs": [],
   "source": []
  }
 ],
 "metadata": {
  "kernelspec": {
   "display_name": "Python 3",
   "language": "python",
   "name": "python3"
  },
  "language_info": {
   "codemirror_mode": {
    "name": "ipython",
    "version": 3
   },
   "file_extension": ".py",
   "mimetype": "text/x-python",
   "name": "python",
   "nbconvert_exporter": "python",
   "pygments_lexer": "ipython3",
   "version": "3.6.9"
  }
 },
 "nbformat": 4,
 "nbformat_minor": 2
}
