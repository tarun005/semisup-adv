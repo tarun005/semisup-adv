{
 "cells": [
  {
   "cell_type": "code",
   "execution_count": 1,
   "metadata": {},
   "outputs": [],
   "source": [
    "from utils import get_model\n",
    "import torch\n",
    "import torch.nn.functional as F\n",
    "import torch.optim as optim\n",
    "from torchvision import transforms\n",
    "from torchvision.datasets import MNIST\n",
    "import torch.backends.cudnn as cudnn\n",
    "from torch.utils.data import DataLoader\n",
    "from svhn import SVHN\n",
    "import sys , os\n",
    "\n",
    "import matplotlib.pyplot as plt\n",
    "\n",
    "%load_ext autoreload\n",
    "%autoreload 2\n",
    "\n",
    "os.environ[\"CUDA_VISIBLE_DEVICES\"]= \"6,7\" "
   ]
  },
  {
   "cell_type": "code",
   "execution_count": 9,
   "metadata": {},
   "outputs": [],
   "source": [
    "model = get_model(\"wrn-40-2\", num_classes=10)\n",
    "model = torch.nn.DataParallel(model).cuda()\n",
    "model.load_state_dict(torch.load(\"SVHN_only/checkpoint-epoch70.pt\")[\"state_dict\"]);\n",
    "model.eval()\n",
    "\n",
    "transform_list = [transforms.ToTensor()]\n",
    "transform_train = transforms.Compose(transform_list)\n",
    "\n",
    "# dataset = MNIST(\"/newfoundland/tarun/datasets/Digits/mnist/\" , train=False, download=True)\n",
    "dataset = SVHN(root=\"/newfoundland/tarun/datasets/Digits/SVHN/\" , split=\"extra_synth\" , transform=transform_train)\n",
    "dataloader = DataLoader(dataset , batch_size=512 , shuffle=False)"
   ]
  },
  {
   "cell_type": "code",
   "execution_count": 10,
   "metadata": {
    "scrolled": false
   },
   "outputs": [
    {
     "name": "stdout",
     "output_type": "stream",
     "text": [
      "937/937"
     ]
    }
   ],
   "source": [
    "pseudo_labels = []\n",
    "gt_labels = []\n",
    "\n",
    "for i , (image , label) in enumerate(dataloader):\n",
    "    \n",
    "    sys.stdout.write(f\"\\r{i+1}/{len(dataloader)}\")\n",
    "    sys.stdout.flush()\n",
    "        \n",
    "    image = image.cuda()\n",
    "#     label = label.cuda()\n",
    "#     \n",
    "    logits = model(image)\n",
    "    predictions = logits.argmax(1)\n",
    "    pseudo_labels.extend(predictions.data.cpu().numpy())\n",
    "    gt_labels.extend(label.cpu().numpy())\n",
    "    \n",
    "#     plt.imshow(image.cpu().numpy()[0].transpose(2,1,0))\n",
    "#     plt.show()\n",
    "#     print(\"Label\" , label[0])\n",
    "#     print(\"Predicted\" , logits[0].argmax()) "
   ]
  },
  {
   "cell_type": "code",
   "execution_count": 11,
   "metadata": {},
   "outputs": [
    {
     "data": {
      "text/plain": [
       "96.64643304130163"
      ]
     },
     "execution_count": 11,
     "metadata": {},
     "output_type": "execute_result"
    }
   ],
   "source": [
    "sum([1 for i in range(len(gt_labels)) if pseudo_labels[i] == gt_labels[i]])/len(pseudo_labels)*100"
   ]
  },
  {
   "cell_type": "code",
   "execution_count": 8,
   "metadata": {},
   "outputs": [
    {
     "data": {
      "text/plain": [
       "98.08239398566455"
      ]
     },
     "execution_count": 8,
     "metadata": {},
     "output_type": "execute_result"
    }
   ],
   "source": [
    "sum([1 for i in range(len(gt_labels)) if pseudo_labels[i] == gt_labels[i]])/len(pseudo_labels)*100"
   ]
  },
  {
   "cell_type": "code",
   "execution_count": null,
   "metadata": {},
   "outputs": [],
   "source": []
  }
 ],
 "metadata": {
  "kernelspec": {
   "display_name": "Python 3",
   "language": "python",
   "name": "python3"
  },
  "language_info": {
   "codemirror_mode": {
    "name": "ipython",
    "version": 3
   },
   "file_extension": ".py",
   "mimetype": "text/x-python",
   "name": "python",
   "nbconvert_exporter": "python",
   "pygments_lexer": "ipython3",
   "version": "3.7.4"
  }
 },
 "nbformat": 4,
 "nbformat_minor": 2
}
